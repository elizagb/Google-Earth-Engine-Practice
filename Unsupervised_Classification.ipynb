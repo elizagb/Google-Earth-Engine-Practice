{
  "nbformat": 4,
  "nbformat_minor": 0,
  "metadata": {
    "colab": {
      "provenance": [],
      "authorship_tag": "ABX9TyNmuIf1e1hTQ7CRFZ2cbL2g",
      "include_colab_link": true
    },
    "kernelspec": {
      "name": "python3",
      "display_name": "Python 3"
    },
    "language_info": {
      "name": "python"
    }
  },
  "cells": [
    {
      "cell_type": "markdown",
      "metadata": {
        "id": "view-in-github",
        "colab_type": "text"
      },
      "source": [
        "<a href=\"https://colab.research.google.com/github/elizagb/Google-Earth-Engine-Practice/blob/main/Unsupervised_Classification.ipynb\" target=\"_parent\"><img src=\"https://colab.research.google.com/assets/colab-badge.svg\" alt=\"Open In Colab\"/></a>"
      ]
    },
    {
      "cell_type": "markdown",
      "source": [
        "# Unsupervised classification of Holiday Farm Fire region using Sentinel 2 data:"
      ],
      "metadata": {
        "id": "6SzvjZHC9tAz"
      }
    },
    {
      "cell_type": "markdown",
      "source": [
        "Set up the environment:"
      ],
      "metadata": {
        "id": "beAOW-0Y99Gd"
      }
    },
    {
      "cell_type": "code",
      "source": [
        "\n",
        "# earth engine and statistical analysis\n",
        "from IPython.display import Image\n",
        "import ee, datetime\n",
        "import geemap.core as geemap\n",
        "import pandas as pd\n",
        "from pylab import *\n",
        "import seaborn as sns\n",
        "\n",
        "# file management\n",
        "import os\n",
        "import glob\n",
        "\n",
        "# geospatial and plotting modules\n",
        "# import geopandas as gpd\n",
        "\n",
        "import geemap.foliumap as geemap\n",
        "import folium\n",
        "import matplotlib.pyplot as plt\n",
        "%matplotlib inline\n",
        "\n",
        "import altair as alt\n"
      ],
      "metadata": {
        "id": "eAJx8q9m90kB"
      },
      "execution_count": 2,
      "outputs": []
    }
  ]
}